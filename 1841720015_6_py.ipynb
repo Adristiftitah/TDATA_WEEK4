{
  "nbformat": 4,
  "nbformat_minor": 0,
  "metadata": {
    "colab": {
      "name": "1841720015_6.py",
      "provenance": [],
      "collapsed_sections": [],
      "authorship_tag": "ABX9TyNpKa5QFRC+qANmT94yDv81",
      "include_colab_link": true
    },
    "kernelspec": {
      "name": "python3",
      "display_name": "Python 3"
    }
  },
  "cells": [
    {
      "cell_type": "markdown",
      "metadata": {
        "id": "view-in-github",
        "colab_type": "text"
      },
      "source": [
        "<a href=\"https://colab.research.google.com/github/Adristiftitah/TDATA_WEEK4/blob/main/1841720015_6_py.ipynb\" target=\"_parent\"><img src=\"https://colab.research.google.com/assets/colab-badge.svg\" alt=\"Open In Colab\"/></a>"
      ]
    },
    {
      "cell_type": "code",
      "metadata": {
        "id": "JncPInDtSVyl"
      },
      "source": [
        ""
      ],
      "execution_count": null,
      "outputs": []
    },
    {
      "cell_type": "code",
      "metadata": {
        "colab": {
          "base_uri": "https://localhost:8080/"
        },
        "id": "XG7SUhuWSkG_",
        "outputId": "9a42d276-afc4-41b5-f9bb-85a285534647"
      },
      "source": [
        "from google.colab import drive\n",
        "drive.mount('/content/drive')"
      ],
      "execution_count": 1,
      "outputs": [
        {
          "output_type": "stream",
          "text": [
            "Mounted at /content/drive\n"
          ],
          "name": "stdout"
        }
      ]
    },
    {
      "cell_type": "code",
      "metadata": {
        "colab": {
          "base_uri": "https://localhost:8080/"
        },
        "id": "qrn88lE_SrJm",
        "outputId": "c511f683-97d4-48c3-f32c-9f37e5064c2d"
      },
      "source": [
        "#Adristi Iftitah Yuniar - 1841720015\r\n",
        "import pandas as pd\r\n",
        "\r\n",
        "df= pd.read_excel('/content/drive/MyDrive/TDATA/OnlineRetail.xlsx')\r\n",
        "df.info()\r\n",
        "print(df.isnull().any())\r\n",
        "print(df.isnull().sum())\r\n",
        "print(df[df['Description'].isnull()].head())"
      ],
      "execution_count": 2,
      "outputs": [
        {
          "output_type": "stream",
          "text": [
            "<class 'pandas.core.frame.DataFrame'>\n",
            "RangeIndex: 207719 entries, 0 to 207718\n",
            "Data columns (total 8 columns):\n",
            " #   Column       Non-Null Count   Dtype         \n",
            "---  ------       --------------   -----         \n",
            " 0   InvoiceNo    207719 non-null  object        \n",
            " 1   StockCode    207719 non-null  object        \n",
            " 2   Description  206886 non-null  object        \n",
            " 3   Quantity     207719 non-null  int64         \n",
            " 4   InvoiceDate  207719 non-null  datetime64[ns]\n",
            " 5   UnitPrice    207719 non-null  float64       \n",
            " 6   CustomerID   148101 non-null  float64       \n",
            " 7   Country      207719 non-null  object        \n",
            "dtypes: datetime64[ns](1), float64(2), int64(1), object(4)\n",
            "memory usage: 12.7+ MB\n",
            "InvoiceNo      False\n",
            "StockCode      False\n",
            "Description     True\n",
            "Quantity       False\n",
            "InvoiceDate    False\n",
            "UnitPrice      False\n",
            "CustomerID      True\n",
            "Country        False\n",
            "dtype: bool\n",
            "InvoiceNo          0\n",
            "StockCode          0\n",
            "Description      833\n",
            "Quantity           0\n",
            "InvoiceDate        0\n",
            "UnitPrice          0\n",
            "CustomerID     59618\n",
            "Country            0\n",
            "dtype: int64\n",
            "     InvoiceNo StockCode Description  ...  UnitPrice CustomerID         Country\n",
            "622     536414     22139         NaN  ...        0.0        NaN  United Kingdom\n",
            "1970    536545     21134         NaN  ...        0.0        NaN  United Kingdom\n",
            "1971    536546     22145         NaN  ...        0.0        NaN  United Kingdom\n",
            "1972    536547     37509         NaN  ...        0.0        NaN  United Kingdom\n",
            "1987    536549    85226A         NaN  ...        0.0        NaN  United Kingdom\n",
            "\n",
            "[5 rows x 8 columns]\n"
          ],
          "name": "stdout"
        }
      ]
    }
  ]
}