{
  "nbformat": 4,
  "nbformat_minor": 0,
  "metadata": {
    "colab": {
      "name": "1841720015_3.py",
      "provenance": [],
      "collapsed_sections": [],
      "authorship_tag": "ABX9TyP1zPeRAlMceCAw2QSLH6SJ",
      "include_colab_link": true
    },
    "kernelspec": {
      "name": "python3",
      "display_name": "Python 3"
    }
  },
  "cells": [
    {
      "cell_type": "markdown",
      "metadata": {
        "id": "view-in-github",
        "colab_type": "text"
      },
      "source": [
        "<a href=\"https://colab.research.google.com/github/Adristiftitah/TDATA_WEEK4/blob/main/1841720015_3_py.ipynb\" target=\"_parent\"><img src=\"https://colab.research.google.com/assets/colab-badge.svg\" alt=\"Open In Colab\"/></a>"
      ]
    },
    {
      "cell_type": "code",
      "metadata": {
        "id": "Wcr0jM9tObOb"
      },
      "source": [
        ""
      ],
      "execution_count": null,
      "outputs": []
    },
    {
      "cell_type": "code",
      "metadata": {
        "colab": {
          "base_uri": "https://localhost:8080/"
        },
        "id": "MdLrwwHnOs-6",
        "outputId": "1e564770-a059-4c49-d9db-0bd02b035ea1"
      },
      "source": [
        "from google.colab import drive\n",
        "drive.mount('/content/drive')"
      ],
      "execution_count": 1,
      "outputs": [
        {
          "output_type": "stream",
          "text": [
            "Mounted at /content/drive\n"
          ],
          "name": "stdout"
        }
      ]
    },
    {
      "cell_type": "code",
      "metadata": {
        "colab": {
          "base_uri": "https://localhost:8080/"
        },
        "id": "YXdx3-9bO43L",
        "outputId": "ff3b61ed-1ef5-43d5-f03c-519669cd0295"
      },
      "source": [
        "import pandas as pd\r\n",
        "\r\n",
        "df = pd.read_csv('/content/drive/MyDrive/TDATA/fifa.csv', index_col=\"Date\", parse_dates = True)\r\n",
        "\r\n",
        "df.info()\r\n",
        "print(df.head())"
      ],
      "execution_count": 2,
      "outputs": [
        {
          "output_type": "stream",
          "text": [
            "<class 'pandas.core.frame.DataFrame'>\n",
            "DatetimeIndex: 286 entries, 1993-08-08 to 2018-06-07\n",
            "Data columns (total 6 columns):\n",
            " #   Column  Non-Null Count  Dtype  \n",
            "---  ------  --------------  -----  \n",
            " 0   ARG     286 non-null    float64\n",
            " 1   BRA     286 non-null    float64\n",
            " 2   ESP     286 non-null    float64\n",
            " 3   FRA     286 non-null    float64\n",
            " 4   GER     286 non-null    float64\n",
            " 5   ITA     286 non-null    float64\n",
            "dtypes: float64(6)\n",
            "memory usage: 15.6 KB\n",
            "             ARG  BRA   ESP   FRA  GER  ITA\n",
            "Date                                       \n",
            "1993-08-08   5.0  8.0  13.0  12.0  1.0  2.0\n",
            "1993-09-23  12.0  1.0  14.0   7.0  5.0  2.0\n",
            "1993-10-22   9.0  1.0   7.0  14.0  4.0  3.0\n",
            "1993-11-19   9.0  4.0   7.0  15.0  3.0  1.0\n",
            "1993-12-23   8.0  3.0   5.0  15.0  1.0  2.0\n"
          ],
          "name": "stdout"
        }
      ]
    }
  ]
}