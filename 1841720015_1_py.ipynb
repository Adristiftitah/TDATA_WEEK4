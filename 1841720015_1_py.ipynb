{
  "nbformat": 4,
  "nbformat_minor": 0,
  "metadata": {
    "colab": {
      "name": "1841720015_1.py",
      "provenance": [],
      "authorship_tag": "ABX9TyOuwfHwqp8GS2bLMQ5NOT5a",
      "include_colab_link": true
    },
    "kernelspec": {
      "name": "python3",
      "display_name": "Python 3"
    }
  },
  "cells": [
    {
      "cell_type": "markdown",
      "metadata": {
        "id": "view-in-github",
        "colab_type": "text"
      },
      "source": [
        "<a href=\"https://colab.research.google.com/github/Adristiftitah/TDATA_WEEK4/blob/main/1841720015_1_py.ipynb\" target=\"_parent\"><img src=\"https://colab.research.google.com/assets/colab-badge.svg\" alt=\"Open In Colab\"/></a>"
      ]
    },
    {
      "cell_type": "code",
      "metadata": {
        "colab": {
          "base_uri": "https://localhost:8080/"
        },
        "id": "K-Mavmu7K8j9",
        "outputId": "d4386fee-e894-4c18-f0a5-49f01e56f57e"
      },
      "source": [
        "from google.colab import drive\r\n",
        "drive.mount('/content/drive')"
      ],
      "execution_count": 1,
      "outputs": [
        {
          "output_type": "stream",
          "text": [
            "Mounted at /content/drive\n"
          ],
          "name": "stdout"
        }
      ]
    },
    {
      "cell_type": "code",
      "metadata": {
        "colab": {
          "base_uri": "https://localhost:8080/"
        },
        "id": "hBJc5YmpLcRF",
        "outputId": "45b0e3bf-b741-405b-d679-e54f5f0491c2"
      },
      "source": [
        "import pandas as pd\r\n",
        "\r\n",
        "df= pd.read_excel('/content/drive/MyDrive/TDATA/OnlineRetail.xlsx')\r\n",
        "df.info()"
      ],
      "execution_count": 2,
      "outputs": [
        {
          "output_type": "stream",
          "text": [
            "<class 'pandas.core.frame.DataFrame'>\n",
            "RangeIndex: 207719 entries, 0 to 207718\n",
            "Data columns (total 8 columns):\n",
            " #   Column       Non-Null Count   Dtype         \n",
            "---  ------       --------------   -----         \n",
            " 0   InvoiceNo    207719 non-null  object        \n",
            " 1   StockCode    207719 non-null  object        \n",
            " 2   Description  206886 non-null  object        \n",
            " 3   Quantity     207719 non-null  int64         \n",
            " 4   InvoiceDate  207719 non-null  datetime64[ns]\n",
            " 5   UnitPrice    207719 non-null  float64       \n",
            " 6   CustomerID   148101 non-null  float64       \n",
            " 7   Country      207719 non-null  object        \n",
            "dtypes: datetime64[ns](1), float64(2), int64(1), object(4)\n",
            "memory usage: 12.7+ MB\n"
          ],
          "name": "stdout"
        }
      ]
    }
  ]
}