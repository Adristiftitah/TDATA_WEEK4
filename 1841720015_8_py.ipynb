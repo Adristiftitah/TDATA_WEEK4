{
  "nbformat": 4,
  "nbformat_minor": 0,
  "metadata": {
    "colab": {
      "name": "1841720015_8.py",
      "provenance": [],
      "collapsed_sections": [],
      "authorship_tag": "ABX9TyO8lPnw7l+AZ0s1woWVXYmd",
      "include_colab_link": true
    },
    "kernelspec": {
      "name": "python3",
      "display_name": "Python 3"
    }
  },
  "cells": [
    {
      "cell_type": "markdown",
      "metadata": {
        "id": "view-in-github",
        "colab_type": "text"
      },
      "source": [
        "<a href=\"https://colab.research.google.com/github/Adristiftitah/TDATA_WEEK4/blob/main/1841720015_8_py.ipynb\" target=\"_parent\"><img src=\"https://colab.research.google.com/assets/colab-badge.svg\" alt=\"Open In Colab\"/></a>"
      ]
    },
    {
      "cell_type": "code",
      "metadata": {
        "colab": {
          "base_uri": "https://localhost:8080/"
        },
        "id": "cflQlZi5VkWI",
        "outputId": "0b1687b9-b0f4-4d07-9d88-fbb461dbdc3b"
      },
      "source": [
        "#Adristi Iftitah Yuniar - 1841720015\r\n",
        "import pandas as pd\r\n",
        "import numpy as np\r\n",
        "\r\n",
        "dummydata = {\r\n",
        "    \"D1\": [np.nan, 0.763, 0.617, 0.738, np.nan,\r\n",
        "            0.716, 0.730, np.nan, 0.710, 0.546],\r\n",
        "    \"D2\": [0.875,0.772, 0.643, 0.542, 0.071,\r\n",
        "            0.685, np.nan, 0.209, 0.547, np.nan]\r\n",
        "}\r\n",
        "\r\n",
        "df = pd.DataFrame(dummydata)\r\n",
        "print(df)\r\n",
        "\r\n",
        "df_mean_imputed = df.fillna(df.mean())\r\n",
        "print(df_mean_imputed)\r\n",
        "\r\n",
        "df_median_imputed  = df.fillna(df.median())\r\n",
        "print(df_median_imputed)\r\n",
        "\r\n",
        "df_zero_imputed = df.fillna(0)\r\n",
        "print(df_zero_imputed)"
      ],
      "execution_count": 1,
      "outputs": [
        {
          "output_type": "stream",
          "text": [
            "      D1     D2\n",
            "0    NaN  0.875\n",
            "1  0.763  0.772\n",
            "2  0.617  0.643\n",
            "3  0.738  0.542\n",
            "4    NaN  0.071\n",
            "5  0.716  0.685\n",
            "6  0.730    NaN\n",
            "7    NaN  0.209\n",
            "8  0.710  0.547\n",
            "9  0.546    NaN\n",
            "         D1     D2\n",
            "0  0.688571  0.875\n",
            "1  0.763000  0.772\n",
            "2  0.617000  0.643\n",
            "3  0.738000  0.542\n",
            "4  0.688571  0.071\n",
            "5  0.716000  0.685\n",
            "6  0.730000  0.543\n",
            "7  0.688571  0.209\n",
            "8  0.710000  0.547\n",
            "9  0.546000  0.543\n",
            "      D1     D2\n",
            "0  0.716  0.875\n",
            "1  0.763  0.772\n",
            "2  0.617  0.643\n",
            "3  0.738  0.542\n",
            "4  0.716  0.071\n",
            "5  0.716  0.685\n",
            "6  0.730  0.595\n",
            "7  0.716  0.209\n",
            "8  0.710  0.547\n",
            "9  0.546  0.595\n",
            "      D1     D2\n",
            "0  0.000  0.875\n",
            "1  0.763  0.772\n",
            "2  0.617  0.643\n",
            "3  0.738  0.542\n",
            "4  0.000  0.071\n",
            "5  0.716  0.685\n",
            "6  0.730  0.000\n",
            "7  0.000  0.209\n",
            "8  0.710  0.547\n",
            "9  0.546  0.000\n"
          ],
          "name": "stdout"
        }
      ]
    }
  ]
}